{
 "cells": [
  {
   "cell_type": "code",
   "execution_count": 2,
   "id": "genetic-decade",
   "metadata": {},
   "outputs": [
    {
     "name": "stdout",
     "output_type": "stream",
     "text": [
      "Discuss your learnings on from Chapter 9 to Chapter 17\n",
      "Chapter 9: Minimum of 200 words\n",
      "In this Chapter I learned that a graph is a pictorial representation representation of a set of objects,\n",
      "objects where some pairs of objects objects are connected connected by links.\n",
      "The interconnected interconnected objects objects are represented represented by points termed as vertices,\n",
      "and the links that connect the vertices are called edges. \n",
      "and different types of Graph Data Structure\n"
     ]
    }
   ],
   "source": [
    "print (\"Discuss your learnings on from Chapter 9 to Chapter 17\")\n",
    "\n",
    "\n",
    "print(\"Chapter 9: Minimum of 200 words\")\n",
    "print(\"\")\n",
    "print(\"In this Chapter I learned that a graph is a pictorial representation of a set of objects, where some pairs of objects are\")\n",
    "print(\"connected by links.The interconnected objects are represented by points termed as vertices, and the links that connect the\")\n",
    "print(\"vertices are called edges. I also learned the different types of Graph Data Structure\")\n"
   ]
  },
  {
   "cell_type": "code",
   "execution_count": 1,
   "id": "civilian-switch",
   "metadata": {},
   "outputs": [
    {
     "name": "stdout",
     "output_type": "stream",
     "text": [
      "Discuss your learnings on from Chapter 9 to Chapter 17\n",
      "Chapter 10: Minimum of 200 words.\n",
      "In this chapter, I leaned that the Binary search is a fast search algorithm with run-time\n",
      "complexity of Ο(log n). This search algorithm works on the principle of divide and conquer\n",
      "For this algorithm to work properly, the data collection should be in the sorted form.\n",
      "\n"
     ]
    }
   ],
   "source": [
    "print (\"Discuss your learnings on from Chapter 9 to Chapter 17\")\n",
    "\n",
    "\n",
    "print(\"Chapter 10: Minimum of 200 words.\")\n",
    "print(\"\")\n",
    "print(\"In this chapter, I leaned that the Binary search is a fast search algorithm with run-time\")\n",
    "print(\"complexity of Ο(log n). This search algorithm works on the principle of divide and conquer\")\n",
    "print(\"For this algorithm to work properly, the data collection should be in the sorted form.\")\n",
    "print(\"And I learned also how binary search work\")"
   ]
  },
  {
   "cell_type": "code",
   "execution_count": 4,
   "id": "equal-salmon",
   "metadata": {},
   "outputs": [
    {
     "name": "stdout",
     "output_type": "stream",
     "text": [
      "Discuss your learnings on from Chapter 9 to Chapter 17\n",
      "Chapter 11: Minimum of 200 words.\n",
      "In this chapter I learn that the Bubble sort is a simple sorting algorithm. This sorting algorithm is comparison-based\n",
      "algorithm in which each pair of  adjacent elements is compared and the elements are swapped if they are not in order.\n",
      "And I also learned how the bubble sort works.\n"
     ]
    }
   ],
   "source": [
    "print (\"Discuss your learnings on from Chapter 9 to Chapter 17\")\n",
    "\n",
    "\n",
    "print(\"Chapter 11: Minimum of 200 words.\")\n",
    "print(\"\")\n",
    "print(\"In this chapter I learn that the Bubble sort is a simple sorting algorithm. This sorting algorithm is comparison-based\")\n",
    "print(\"algorithm in which each pair of  adjacent elements is compared and the elements are swapped if they are not in order.\")\n",
    "print(\"And I also learned how the bubble sort works.\")\n"
   ]
  },
  {
   "cell_type": "code",
   "execution_count": 3,
   "id": "independent-testing",
   "metadata": {},
   "outputs": [
    {
     "name": "stdout",
     "output_type": "stream",
     "text": [
      "Discuss your learnings on from Chapter 9 to Chapter 17\n",
      "Chapter 12: Minimum of 200 words.\n",
      "I learned that the quick sort is a highly efficient ficient sorting algorithm and is based on partitioning of array of data into\n",
      "smaller arrays. A large array is partitioned into two arrays one of which holds values smaller than the specified value, say pivot,\n",
      "based on which the partition partition is made and another another array holds values greater than the pivot value.\n",
      "And I learned also how it works\n"
     ]
    }
   ],
   "source": [
    "print (\"Discuss your learnings on from Chapter 9 to Chapter 17\")\n",
    "\n",
    "\n",
    "print(\"Chapter 12: Minimum of 200 words.\")\n",
    "print(\"\")\n",
    "print(\"I learned that the quick sort is a highly efficient ficient sorting algorithm and is based on partitioning of array of data into\")\n",
    "print(\"smaller arrays. A large array is partitioned into two arrays one of which holds values smaller than the specified value, say pivot,\")\n",
    "print(\"based on which the partition partition is made and another another array holds values greater than the pivot value.\")\n",
    "print(\"And I learned also how it works\")"
   ]
  },
  {
   "cell_type": "code",
   "execution_count": 7,
   "id": "hindu-interval",
   "metadata": {},
   "outputs": [
    {
     "name": "stdout",
     "output_type": "stream",
     "text": [
      "Discuss your learnings on from Chapter 9 to Chapter 17\n",
      "Chapter 13: Minimum of 200 words.\n",
      "\n",
      "I learned that the insertion sort is an in-place comparison-based sorting algorithm. Here, a sub-list is maintained which is always sorted.\n",
      "For example, the lower part of an array is maintained to be sorted. An element which is to be An element which is to be 'insert'ed in this\n",
      "sorted sub-list, has to find its appropriate place and then it has to be inserted there. Hence the name, insertion sort.\n",
      "And I also learned how this insertion sort works.\n"
     ]
    }
   ],
   "source": [
    "print (\"Discuss your learnings on from Chapter 9 to Chapter 17\")\n",
    "\n",
    "\n",
    "print(\"Chapter 13: Minimum of 200 words.\")\n",
    "print(\"\")\n",
    "print(\"I learned that the insertion sort is an in-place comparison-based sorting algorithm. Here, a sub-list is maintained which is always sorted.\")\n",
    "print(\"For example, the lower part of an array is maintained to be sorted. An element which is to be An element which is to be 'insert'ed in this\")\n",
    "print(\"sorted sub-list, has to find its appropriate place and then it has to be inserted there. Hence the name, insertion sort.\")\n",
    "print(\"And I also learned how this insertion sort works.\")\n"
   ]
  },
  {
   "cell_type": "code",
   "execution_count": 6,
   "id": "positive-corruption",
   "metadata": {},
   "outputs": [
    {
     "name": "stdout",
     "output_type": "stream",
     "text": [
      "Discuss your learnings on from Chapter 9 to Chapter 17\n",
      "Chapter 14: Minimum of 200 words.\n",
      "\n",
      "In this chapter I learned Merge sort is a sorting technique based on divide and conquer technique. With worst-case time complexity\n",
      "being Ο(n log n), it is one of the most respected algorithms. And it divides the array into equal halves and then combines them in\n",
      "a sorted manner. And  I also learned how this Merge Sort Algorithm works.\n"
     ]
    }
   ],
   "source": [
    "print (\"Discuss your learnings on from Chapter 9 to Chapter 17\")\n",
    "\n",
    "\n",
    "print(\"Chapter 14: Minimum of 200 words.\")\n",
    "print(\"\")\n",
    "print(\"In this chapter I learned Merge sort is a sorting technique based on divide and conquer technique. With worst-case time complexity\")\n",
    "print(\"being Ο(n log n), it is one of the most respected algorithms. And it divides the array into equal halves and then combines them in\")\n",
    "print(\"a sorted manner. And  I also learned how this Merge Sort Algorithm works.\")\n"
   ]
  },
  {
   "cell_type": "code",
   "execution_count": 5,
   "id": "comfortable-undergraduate",
   "metadata": {},
   "outputs": [
    {
     "name": "stdout",
     "output_type": "stream",
     "text": [
      "Discuss your learnings on from Chapter 9 to Chapter 17\n",
      "Chapter 15: Minimum of 200 words.\n",
      "\n",
      "I learned what shell sort is a highly efficient  sorting  algorithm and is based on  insertion sort algorithm. This\n",
      "algorithm avoids large shifts as in case of insertion sort, if the smaller value is to the far right and has to be \n",
      "moved to the far left. And I learned also how shell sort works\n"
     ]
    }
   ],
   "source": [
    "print (\"Discuss your learnings on from Chapter 9 to Chapter 17\")\n",
    "\n",
    "\n",
    "print(\"Chapter 15: Minimum of 200 words.\")\n",
    "print(\"\")\n",
    "print(\"I learned what shell sort is a highly efficient  sorting  algorithm and is based on  insertion sort algorithm. This\")\n",
    "print(\"algorithm avoids large shifts as in case of insertion sort, if the smaller value is to the far right and has to be \")\n",
    "print(\"moved to the far left. And I learned also how shell sort works\")"
   ]
  },
  {
   "cell_type": "code",
   "execution_count": 14,
   "id": "false-correlation",
   "metadata": {},
   "outputs": [
    {
     "name": "stdout",
     "output_type": "stream",
     "text": [
      "Discuss your learnings on Chapter 16: Minimum of 200 words\n",
      "Chapter 16 learnings are the following.\n",
      "\n",
      "\n",
      "\n",
      "\n",
      "\n"
     ]
    }
   ],
   "source": [
    "print (\"Discuss your learnings on from Chapter 9 to Chapter 17\")\n",
    "\n",
    "\n",
    "print(\"Chapter 16: Minimum of 200 words.\")\n",
    "print(\"\")\n",
    "print(\"Selection sort is a simple sorting  algorithm. This sorting algorithm is an in-place comparison-basedvalgorithm in which the list is\")\n",
    "print(\"into two parts, the sorted part at the left end and the unsorted part at the right end. Initially, the sorted part is empty and the\")\n",
    "print(\"unsorted part is the entire list. And I also learned how this Selection algorithm works.)"
   ]
  },
  {
   "cell_type": "code",
   "execution_count": null,
   "id": "floating-pacific",
   "metadata": {},
   "outputs": [],
   "source": [
    "print (\"Discuss your learnings on from Chapter 9 to Chapter 17\")\n",
    "\n",
    "\n",
    "print(\"Chapter 17: Minimum of 200 words.\")\n",
    "print(\"I learned that the python also accepts function recursion, which means a defined function can call itself.\")\n",
    "print(\"And I learned recursion is a common mathematical and programming concept. It means that a function calls itself.\")\n",
    "print(\"I learned also the two types of properties which is the Base criteria and Progressive approach, The implementation,\")\n",
    "print(\"Analysis of Recursion, and the Space Complexity\")\n"
   ]
  },
  {
   "cell_type": "code",
   "execution_count": null,
   "id": "compressed-bearing",
   "metadata": {},
   "outputs": [],
   "source": [
    "print(\"II. Answer the following questions:\")"
   ]
  },
  {
   "cell_type": "code",
   "execution_count": 9,
   "id": "identical-discovery",
   "metadata": {},
   "outputs": [
    {
     "name": "stdout",
     "output_type": "stream",
     "text": [
      "Implement the simple methods get_num and get_den that will return the numerator and denominator of a fraction.\n",
      "Numerator:  10\n",
      "Denominator:  6\n"
     ]
    }
   ],
   "source": [
    "print(\"Implement the simple methods get_num and get_den that will return the numerator and denominator of a fraction.\")\n",
    "\n",
    "def get_num(num1):\n",
    "    return num1\n",
    "def get_den(den1):\n",
    "    return den1\n",
    "\n",
    "num = 10\n",
    "den = 6\n",
    "\n",
    "print(\"Numerator: \",get_num(num))\n",
    "print(\"Denominator: \",get_den(den))\n"
   ]
  },
  {
   "cell_type": "code",
   "execution_count": 15,
   "id": "collected-poker",
   "metadata": {},
   "outputs": [
    {
     "name": "stdout",
     "output_type": "stream",
     "text": [
      "Research the __radd__ method. How does it differ from __add__?\n",
      "\n",
      "When is it used? Implement __radd__ \n",
      "__add__ is to take an input string and then return an instance which contains the data and concatenate it while __radd__ adds the string first then the user-defined class comes next to it.\n",
      "\n",
      "15\n",
      "15\n"
     ]
    }
   ],
   "source": [
    "print(\"Research the __radd__ method. How does it differ from __add__?\")\n",
    "print(\"\")\n",
    "print(\"When is it used? Implement __radd__ \")\n",
    "print(\"__add__ is to take an input string and then return an instance which contains the data and concatenate it while __radd__ adds the string first then the user-defined class comes next to it.\")\n",
    "print(\"\")\n",
    "\n",
    "class X:\n",
    "    \n",
    "    def __init__(self, num):\n",
    "        self.num = num\n",
    "\n",
    "    def __str__(self):\n",
    "        return str(self.num)\n",
    "\n",
    "    def __add__(self, other):\n",
    "        return self.num + other.num\n",
    "    \n",
    "    __radd__ = __add__\n",
    "\n",
    "\n",
    "class Y:\n",
    "\n",
    "    def __init__(self, num):\n",
    "        self.num = num\n",
    "\n",
    "    def __str__(self):\n",
    "        return str(self.num)\n",
    "\n",
    "\n",
    "x = X(5)\n",
    "y = Y(10)\n",
    "\n",
    "print(x+y)\n",
    "\n",
    "print(y+x)"
   ]
  },
  {
   "cell_type": "code",
   "execution_count": 19,
   "id": "obvious-campus",
   "metadata": {},
   "outputs": [
    {
     "name": "stdout",
     "output_type": "stream",
     "text": [
      "The most simple arithmetic circuit is known as the half adder. Research the simple half-adder circuit. Implement this circuit.\n",
      "\n",
      "Sum:  908\n",
      "Carry:  96\n"
     ]
    }
   ],
   "source": [
    "print(\"The most simple arithmetic circuit is known as the half adder. Research the simple half-adder circuit. Implement this circuit.\")\n",
    "print(\"\")\n",
    "\n",
    "def getResult(A, B):\n",
    "    \n",
    "    Sum = A ^ B\n",
    "    Carry = A & B\n",
    "      \n",
    "    print(\"Sum: \", Sum)\n",
    "    print(\"Carry: \", Carry)\n",
    "    \n",
    "A = 100\n",
    "B = 1000\n",
    "\n",
    "getResult(A, B)"
   ]
  },
  {
   "cell_type": "code",
   "execution_count": 34,
   "id": "hourly-glance",
   "metadata": {},
   "outputs": [
    {
     "name": "stdout",
     "output_type": "stream",
     "text": [
      "Design a class to represent a playing card and another one to represent a deck of cards. Using these two classes, implement your favorite card game.\n",
      "\n"
     ]
    }
   ],
   "source": [
    "print(\"Design a class to represent a playing card and another one to represent a deck of cards. Using these two classes, implement your favorite card game.\")\n",
    "print(\"\")\n",
    "\n",
    "import random\n",
    "from random import shuffle\n",
    "\n",
    "def RANKS(): return [ \"Ace\", \"2\", \"3\", \"4\", \"5\", \"6\", \"7\",\"8\", \"9\", \"10\", \"Jack\", \"Queen\", \"King\" ]\n",
    "def SUITS(): return [ \"Clubs\", \"Diamonds\", \"Hearts\", \"Spades\" ]\n",
    "\n",
    "class Card:\n",
    "\n",
    "    def __init__( self, rank, suit ):\n",
    "        self.rank = rank\n",
    "        self.suit = suit\n",
    "\n",
    "    def __str__( self ):\n",
    "        return self.rank + \" of \" + self.suit\n",
    "\n",
    "class Deck:\n",
    "\n",
    "    def __init__( self ):\n",
    "        self.contents = []\n",
    "        self.contents = [ Card( rank, suit ) for rank in RANKS() for suit in SUITS() ]\n",
    "        random.shuffle( self.contents )\n"
   ]
  },
  {
   "cell_type": "code",
   "execution_count": 45,
   "id": "expected-yemen",
   "metadata": {},
   "outputs": [
    {
     "name": "stdout",
     "output_type": "stream",
     "text": [
      " Design and implement an experiment to do benchmark comparisons of the two queue(enqueue,dequeue) implementations.  \n",
      " What can you learn from such an experiment?\n",
      "\n"
     ]
    }
   ],
   "source": [
    "print(\" Design and implement an experiment to do benchmark comparisons of the two queue(enqueue,dequeue) implementations. \",'\\n',\"What can you learn from such an experiment?\")\n",
    "print(\"\")\n",
    "\n",
    "class Queue:\n",
    "    def __init__(self):\n",
    "        self.items = []\n",
    "\n",
    "    def isEmpty(self):\n",
    "        return self.items == []\n",
    "\n",
    "    def enqueue(self, item):\n",
    "        self.items.insert(0,item)\n",
    "\n",
    "    def dequeue(self):\n",
    "        return self.items.pop()\n",
    "\n",
    "    def size(self):\n",
    "        return len(self.items)"
   ]
  },
  {
   "cell_type": "code",
   "execution_count": null,
   "id": "suffering-little",
   "metadata": {},
   "outputs": [],
   "source": [
    "print(\"Consider a real life situation. Formulate a question and then design a simulation that can help to answer it.\")\n",
    "print(\"\")\n",
    "print(\"Road incidents. How to minimize road incidents?\")\n",
    "print(\"• Pull into traffic slowly\")\n",
    "print(\"• Watch for red light runners.\")\n",
    "print(\"• Keep at least one hand on the steering wheel.\")\n",
    "print(\"• Perform engine maintenance regularly.\")\n",
    "print(\"• Look backwards when backing out. \")\n",
    "print(\"• Be courteous to other drivers.  \")\n",
    "print(\"• Underage drinking and drug use is illegal.\")\n",
    "print(\"• ALWAYS wear your safety belt.\")\n",
    "print(\"• Cell phones are for emergency use only on the road. \")"
   ]
  },
  {
   "cell_type": "code",
   "execution_count": 48,
   "id": "polish-suggestion",
   "metadata": {},
   "outputs": [
    {
     "name": "stdout",
     "output_type": "stream",
     "text": [
      "Implement a queue using linked lists.\n",
      "\n",
      "['Mariel', 'Degumbis', 'Balistoy', 'Mariel']\n",
      "Mariel\n",
      "['Degumbis', 'Balistoy', 'Mariel']\n",
      "Degumbis\n",
      "['Balistoy', 'Mariel']\n"
     ]
    }
   ],
   "source": [
    "print(\"Implement a queue using linked lists.\")\n",
    "print(\"\")\n",
    "\n",
    "queue = [\"Mariel\", \"Degumbis\"]\n",
    "queue.append(\"Balistoy\")\n",
    "queue.append(\"Mariel\")\n",
    "print(queue)\n",
    "  \n",
    "print(queue.pop(0)) \n",
    "print(queue)\n",
    "  \n",
    "print(queue.pop(0))\n",
    "print(queue)\n"
   ]
  },
  {
   "cell_type": "code",
   "execution_count": 50,
   "id": "binary-capacity",
   "metadata": {},
   "outputs": [
    {
     "name": "stdout",
     "output_type": "stream",
     "text": [
      "Write a recursive function to compute the factorial of a number.\n",
      "\n"
     ]
    },
    {
     "name": "stdin",
     "output_type": "stream",
     "text": [
      "Enter a number:  10\n"
     ]
    },
    {
     "name": "stdout",
     "output_type": "stream",
     "text": [
      "The factorial of 10 is 3628800\n"
     ]
    }
   ],
   "source": [
    "print(\"Write a recursive function to compute the factorial of a number.\")\n",
    "print(\"\")\n",
    "def recur_factorial(n):  \n",
    "   if n == 1:  \n",
    "       return n  \n",
    "   else:  \n",
    "       return n*recur_factorial(n-1)  \n",
    "\n",
    "num = int(input(\"Enter a number: \"))  \n",
    " \n",
    "if num < 0:  \n",
    "   print(\"Sorry, factorial does not exist for negative numbers\")  \n",
    "elif num == 0:  \n",
    "   print(\"The factorial of 0 is 1\")  \n",
    "else:  \n",
    "   print(\"The factorial of\",num,\"is\",recur_factorial(num))  "
   ]
  },
  {
   "cell_type": "code",
   "execution_count": 54,
   "id": "comic-coordination",
   "metadata": {},
   "outputs": [
    {
     "name": "stdout",
     "output_type": "stream",
     "text": [
      "Set up a random experiment to test the difference between a sequential search and a binary search on a list of integers.\n",
      "\n",
      "Element is present at index -1\n",
      "(False, 10)\n"
     ]
    }
   ],
   "source": [
    "print(\"Set up a random experiment to test the difference between a sequential search and a binary search on a list of integers.\")\n",
    "print(\"\")\n",
    "def binary_search(arr, low, high, x):\n",
    " \n",
    "    # Check base case\n",
    "    if high >= low:\n",
    " \n",
    "        mid = (high + low) // 2\n",
    " \n",
    "        if arr[mid] == x:\n",
    "            return mid\n",
    " \n",
    "        elif arr[mid] > x:\n",
    "            return binary_search(arr, low, mid - 2, x)\n",
    " \n",
    "        else:\n",
    "            return binary_search(arr, mid + 2, high, x)\n",
    " \n",
    "    else:\n",
    "        return -1\n",
    " \n",
    "arr = [ 25, 50, 75, 120, 150 ]\n",
    "x = 80\n",
    " \n",
    "result = binary_search(arr, 0, len(arr)-2, x)\n",
    " \n",
    "if result != -2:\n",
    "    print(\"Element is present at index\", str(result))\n",
    "else:\n",
    "    print(\"Element is not present in array\")\n",
    "\n",
    "\n",
    "def Sequential_Search(dlist, item):\n",
    "\n",
    "    pos = 0\n",
    "    found = False\n",
    "    \n",
    "    while pos < len(dlist) and not found:\n",
    "        if dlist[pos] == item:\n",
    "            found = True\n",
    "        else:\n",
    "            pos = pos + 2\n",
    "    \n",
    "    return found, pos\n",
    "\n",
    "print(Sequential_Search([11,23,58,31,56,77,43,12,65,19],31))\n"
   ]
  },
  {
   "cell_type": "code",
   "execution_count": 3,
   "id": "successful-wages",
   "metadata": {},
   "outputs": [
    {
     "name": "stdout",
     "output_type": "stream",
     "text": [
      "Suppose you are a computer scientist/art thief who has broken into a major art gallery. All you have with you to haul out your stolen art is your knapsack which only holds W pounds of art, but for every piece of art you know its value and its weight. Write a dynamic programming function to help you maximize your profit. Here is a sample problem for you to use to get started: Suppose your knapsack can hold a total weight of 20. \n",
      "\n",
      "8\n"
     ]
    }
   ],
   "source": [
    "print(\"Suppose you are a computer scientist/art thief who has broken into a major art gallery. All you have with you to haul out your stolen art is your knapsack which only holds W pounds of art, but for every piece of art you know its value and its weight. Write a dynamic programming function to help you maximize your profit. Here is a sample problem for you to use to get started: Suppose your knapsack can hold a total weight of 20. \")\n",
    "print(\"\")\n",
    "def knapSack(W, wt, val, n):\n",
    "\n",
    "\tif n == 0 or W == 0:\n",
    "\t\treturn 0\n",
    "\n",
    "\n",
    "\tif (wt[n-1] > W):\n",
    "\t\treturn knapSack(W, wt, val, n-1)\n",
    "\n",
    "\n",
    "\telse:\n",
    "\t\treturn max(\n",
    "\t\t\tval[n-1] + knapSack(\n",
    "\t\t\t\tW-wt[n-1], wt, val, n-1),\n",
    "\t\t\tknapSack(W, wt, val, n-1))\n",
    "\n",
    "\n",
    "\n",
    "#Driver Code\n",
    "val = [3, 4, 8,8,10]\n",
    "wt = [2, 3, 4,5,9]\n",
    "W = 5\n",
    "n = len(val)\n",
    "print (knapSack(W, wt, val, n))\n",
    "\n"
   ]
  },
  {
   "cell_type": "code",
   "execution_count": null,
   "id": "resistant-steal",
   "metadata": {},
   "outputs": [],
   "source": []
  }
 ],
 "metadata": {
  "kernelspec": {
   "display_name": "Python 3",
   "language": "python",
   "name": "python3"
  },
  "language_info": {
   "codemirror_mode": {
    "name": "ipython",
    "version": 3
   },
   "file_extension": ".py",
   "mimetype": "text/x-python",
   "name": "python",
   "nbconvert_exporter": "python",
   "pygments_lexer": "ipython3",
   "version": "3.9.2"
  }
 },
 "nbformat": 4,
 "nbformat_minor": 5
}
